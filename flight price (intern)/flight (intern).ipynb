{
 "cells": [
  {
   "cell_type": "code",
   "execution_count": 1,
   "id": "1fd530ff",
   "metadata": {},
   "outputs": [],
   "source": [
    "import pandas as pd\n",
    "import numpy as np\n",
    "import matplotlib.pyplot as plt\n",
    "%matplotlib inline\n",
    "import warnings\n",
    "warnings.filterwarnings('ignore')\n",
    "import seaborn as sns\n",
    "import datetime\n",
    "from sklearn.preprocessing import LabelEncoder\n",
    "from sklearn import metrics\n",
    "from sklearn.model_selection import train_test_split\n",
    "from sklearn.linear_model import LogisticRegression\n",
    "from sklearn.tree import DecisionTreeRegressor\n",
    "from sklearn.ensemble import RandomForestRegressor\n",
    "from sklearn.preprocessing import StandardScaler\n",
    "from sklearn.neighbors import KNeighborsRegressor"
   ]
  },
  {
   "cell_type": "code",
   "execution_count": 2,
   "id": "fb882120",
   "metadata": {},
   "outputs": [
    {
     "data": {
      "text/html": [
       "<div>\n",
       "<style scoped>\n",
       "    .dataframe tbody tr th:only-of-type {\n",
       "        vertical-align: middle;\n",
       "    }\n",
       "\n",
       "    .dataframe tbody tr th {\n",
       "        vertical-align: top;\n",
       "    }\n",
       "\n",
       "    .dataframe thead th {\n",
       "        text-align: right;\n",
       "    }\n",
       "</style>\n",
       "<table border=\"1\" class=\"dataframe\">\n",
       "  <thead>\n",
       "    <tr style=\"text-align: right;\">\n",
       "      <th></th>\n",
       "      <th>Unnamed: 0</th>\n",
       "      <th>Airlines</th>\n",
       "      <th>Departure_Time</th>\n",
       "      <th>Route</th>\n",
       "      <th>Arrival_Time</th>\n",
       "      <th>Flight_Duration</th>\n",
       "      <th>Total_Stops</th>\n",
       "      <th>Price</th>\n",
       "    </tr>\n",
       "  </thead>\n",
       "  <tbody>\n",
       "    <tr>\n",
       "      <th>0</th>\n",
       "      <td>0</td>\n",
       "      <td>GO FIRST</td>\n",
       "      <td>10:40</td>\n",
       "      <td>DEL–GOI</td>\n",
       "      <td>1:20</td>\n",
       "      <td>2hr 40min</td>\n",
       "      <td>Nonstop</td>\n",
       "      <td>₹15,984</td>\n",
       "    </tr>\n",
       "    <tr>\n",
       "      <th>1</th>\n",
       "      <td>1</td>\n",
       "      <td>SpiceJet</td>\n",
       "      <td>12:05</td>\n",
       "      <td>DEL–GOI</td>\n",
       "      <td>2:25</td>\n",
       "      <td>2hr 20min</td>\n",
       "      <td>Nonstop</td>\n",
       "      <td>₹16,383</td>\n",
       "    </tr>\n",
       "    <tr>\n",
       "      <th>2</th>\n",
       "      <td>2</td>\n",
       "      <td>IndiGo</td>\n",
       "      <td>12:25</td>\n",
       "      <td>DEL–GOI</td>\n",
       "      <td>2:50</td>\n",
       "      <td>2hr 25min</td>\n",
       "      <td>Nonstop</td>\n",
       "      <td>₹16,383</td>\n",
       "    </tr>\n",
       "    <tr>\n",
       "      <th>3</th>\n",
       "      <td>3</td>\n",
       "      <td>Vistara</td>\n",
       "      <td>11:10</td>\n",
       "      <td>DEL–GOI</td>\n",
       "      <td>1:50</td>\n",
       "      <td>2hr 40min</td>\n",
       "      <td>Nonstop</td>\n",
       "      <td>₹17,040</td>\n",
       "    </tr>\n",
       "    <tr>\n",
       "      <th>4</th>\n",
       "      <td>4</td>\n",
       "      <td>GO FIRST</td>\n",
       "      <td>5:25</td>\n",
       "      <td>DEL–GOI</td>\n",
       "      <td>5:25</td>\n",
       "      <td>12hr</td>\n",
       "      <td>1 stop</td>\n",
       "      <td>₹16,246</td>\n",
       "    </tr>\n",
       "  </tbody>\n",
       "</table>\n",
       "</div>"
      ],
      "text/plain": [
       "   Unnamed: 0  Airlines Departure_Time    Route Arrival_Time Flight_Duration  \\\n",
       "0           0  GO FIRST          10:40  DEL–GOI         1:20       2hr 40min   \n",
       "1           1  SpiceJet          12:05  DEL–GOI         2:25       2hr 20min   \n",
       "2           2    IndiGo          12:25  DEL–GOI         2:50       2hr 25min   \n",
       "3           3   Vistara          11:10  DEL–GOI         1:50       2hr 40min   \n",
       "4           4  GO FIRST           5:25  DEL–GOI         5:25            12hr   \n",
       "\n",
       "  Total_Stops    Price  \n",
       "0     Nonstop  ₹15,984  \n",
       "1     Nonstop  ₹16,383  \n",
       "2     Nonstop  ₹16,383  \n",
       "3     Nonstop  ₹17,040  \n",
       "4      1 stop  ₹16,246  "
      ]
     },
     "execution_count": 2,
     "metadata": {},
     "output_type": "execute_result"
    }
   ],
   "source": [
    "data = pd.read_csv(\"flight_final.csv\")\n",
    "data.head()"
   ]
  },
  {
   "cell_type": "code",
   "execution_count": 3,
   "id": "6fbae09e",
   "metadata": {},
   "outputs": [
    {
     "data": {
      "text/plain": [
       "(1720, 8)"
      ]
     },
     "execution_count": 3,
     "metadata": {},
     "output_type": "execute_result"
    }
   ],
   "source": [
    "data.shape"
   ]
  },
  {
   "cell_type": "code",
   "execution_count": 4,
   "id": "a052a456",
   "metadata": {},
   "outputs": [
    {
     "data": {
      "text/plain": [
       "Unnamed: 0         0\n",
       "Airlines           0\n",
       "Departure_Time     0\n",
       "Route              0\n",
       "Arrival_Time       0\n",
       "Flight_Duration    0\n",
       "Total_Stops        0\n",
       "Price              0\n",
       "dtype: int64"
      ]
     },
     "execution_count": 4,
     "metadata": {},
     "output_type": "execute_result"
    }
   ],
   "source": [
    "data.isnull().sum()"
   ]
  },
  {
   "cell_type": "code",
   "execution_count": 5,
   "id": "f6ca0645",
   "metadata": {},
   "outputs": [
    {
     "name": "stdout",
     "output_type": "stream",
     "text": [
      "<class 'pandas.core.frame.DataFrame'>\n",
      "RangeIndex: 1720 entries, 0 to 1719\n",
      "Data columns (total 8 columns):\n",
      " #   Column           Non-Null Count  Dtype \n",
      "---  ------           --------------  ----- \n",
      " 0   Unnamed: 0       1720 non-null   int64 \n",
      " 1   Airlines         1720 non-null   object\n",
      " 2   Departure_Time   1720 non-null   object\n",
      " 3   Route            1720 non-null   object\n",
      " 4   Arrival_Time     1720 non-null   object\n",
      " 5   Flight_Duration  1720 non-null   object\n",
      " 6   Total_Stops      1720 non-null   object\n",
      " 7   Price            1720 non-null   object\n",
      "dtypes: int64(1), object(7)\n",
      "memory usage: 107.6+ KB\n"
     ]
    }
   ],
   "source": [
    "data.info()"
   ]
  },
  {
   "cell_type": "code",
   "execution_count": 6,
   "id": "43152496",
   "metadata": {},
   "outputs": [
    {
     "data": {
      "text/html": [
       "<div>\n",
       "<style scoped>\n",
       "    .dataframe tbody tr th:only-of-type {\n",
       "        vertical-align: middle;\n",
       "    }\n",
       "\n",
       "    .dataframe tbody tr th {\n",
       "        vertical-align: top;\n",
       "    }\n",
       "\n",
       "    .dataframe thead th {\n",
       "        text-align: right;\n",
       "    }\n",
       "</style>\n",
       "<table border=\"1\" class=\"dataframe\">\n",
       "  <thead>\n",
       "    <tr style=\"text-align: right;\">\n",
       "      <th></th>\n",
       "      <th>Airlines</th>\n",
       "      <th>Departure_Time</th>\n",
       "      <th>Arrival_Time</th>\n",
       "      <th>Flight_Duration</th>\n",
       "      <th>Total_Stops</th>\n",
       "      <th>Price</th>\n",
       "    </tr>\n",
       "  </thead>\n",
       "  <tbody>\n",
       "    <tr>\n",
       "      <th>0</th>\n",
       "      <td>GO FIRST</td>\n",
       "      <td>10:40</td>\n",
       "      <td>1:20</td>\n",
       "      <td>2hr 40min</td>\n",
       "      <td>Nonstop</td>\n",
       "      <td>₹15,984</td>\n",
       "    </tr>\n",
       "    <tr>\n",
       "      <th>1</th>\n",
       "      <td>SpiceJet</td>\n",
       "      <td>12:05</td>\n",
       "      <td>2:25</td>\n",
       "      <td>2hr 20min</td>\n",
       "      <td>Nonstop</td>\n",
       "      <td>₹16,383</td>\n",
       "    </tr>\n",
       "    <tr>\n",
       "      <th>2</th>\n",
       "      <td>IndiGo</td>\n",
       "      <td>12:25</td>\n",
       "      <td>2:50</td>\n",
       "      <td>2hr 25min</td>\n",
       "      <td>Nonstop</td>\n",
       "      <td>₹16,383</td>\n",
       "    </tr>\n",
       "    <tr>\n",
       "      <th>3</th>\n",
       "      <td>Vistara</td>\n",
       "      <td>11:10</td>\n",
       "      <td>1:50</td>\n",
       "      <td>2hr 40min</td>\n",
       "      <td>Nonstop</td>\n",
       "      <td>₹17,040</td>\n",
       "    </tr>\n",
       "    <tr>\n",
       "      <th>4</th>\n",
       "      <td>GO FIRST</td>\n",
       "      <td>5:25</td>\n",
       "      <td>5:25</td>\n",
       "      <td>12hr</td>\n",
       "      <td>1 stop</td>\n",
       "      <td>₹16,246</td>\n",
       "    </tr>\n",
       "  </tbody>\n",
       "</table>\n",
       "</div>"
      ],
      "text/plain": [
       "   Airlines Departure_Time Arrival_Time Flight_Duration Total_Stops    Price\n",
       "0  GO FIRST          10:40         1:20       2hr 40min     Nonstop  ₹15,984\n",
       "1  SpiceJet          12:05         2:25       2hr 20min     Nonstop  ₹16,383\n",
       "2    IndiGo          12:25         2:50       2hr 25min     Nonstop  ₹16,383\n",
       "3   Vistara          11:10         1:50       2hr 40min     Nonstop  ₹17,040\n",
       "4  GO FIRST           5:25         5:25            12hr      1 stop  ₹16,246"
      ]
     },
     "execution_count": 6,
     "metadata": {},
     "output_type": "execute_result"
    }
   ],
   "source": [
    "# dropping columns\n",
    "\n",
    "data =data.drop(['Unnamed: 0','Route'],axis =1)\n",
    "data.head()"
   ]
  },
  {
   "cell_type": "code",
   "execution_count": 7,
   "id": "0aeae5a4",
   "metadata": {},
   "outputs": [
    {
     "data": {
      "text/plain": [
       "IndiGo                 560\n",
       "Air India              370\n",
       "Vistara                330\n",
       "GO FIRST               210\n",
       "SpiceJet               140\n",
       "AirAsia (India)         90\n",
       "Emirates, Air India     20\n",
       "Name: Airlines, dtype: int64"
      ]
     },
     "execution_count": 7,
     "metadata": {},
     "output_type": "execute_result"
    }
   ],
   "source": [
    "data['Airlines'].value_counts()"
   ]
  },
  {
   "cell_type": "code",
   "execution_count": 8,
   "id": "7054252d",
   "metadata": {},
   "outputs": [
    {
     "data": {
      "text/plain": [
       "8:00     100\n",
       "7:00      80\n",
       "5:55      60\n",
       "10:00     50\n",
       "10:45     50\n",
       "        ... \n",
       "1:15      10\n",
       "5:30      10\n",
       "1:50      10\n",
       "5:20      10\n",
       "4:50      10\n",
       "Name: Departure_Time, Length: 78, dtype: int64"
      ]
     },
     "execution_count": 8,
     "metadata": {},
     "output_type": "execute_result"
    }
   ],
   "source": [
    "data['Departure_Time'].value_counts()"
   ]
  },
  {
   "cell_type": "code",
   "execution_count": 9,
   "id": "244f9759",
   "metadata": {},
   "outputs": [
    {
     "data": {
      "text/plain": [
       "6:20     110\n",
       "2:05     110\n",
       "12:45    110\n",
       "7:50     110\n",
       "2:35      80\n",
       "        ... \n",
       " 2:25     10\n",
       " 9:30     10\n",
       " 7:45     10\n",
       " 12:5     10\n",
       " 3:50     10\n",
       "Name: Arrival_Time, Length: 71, dtype: int64"
      ]
     },
     "execution_count": 9,
     "metadata": {},
     "output_type": "execute_result"
    }
   ],
   "source": [
    "data['Arrival_Time'].value_counts()"
   ]
  },
  {
   "cell_type": "code",
   "execution_count": 10,
   "id": "0a85091e",
   "metadata": {},
   "outputs": [
    {
     "data": {
      "text/plain": [
       "2hr 35min     50\n",
       "2hr 40min     40\n",
       "11hr 10min    40\n",
       "8hr 20min     40\n",
       "7hr 55min     30\n",
       "              ..\n",
       "15hr 50min    10\n",
       "14hr 50min    10\n",
       "20hr 20min    10\n",
       "21hr 20min    10\n",
       "11hr          10\n",
       "Name: Flight_Duration, Length: 120, dtype: int64"
      ]
     },
     "execution_count": 10,
     "metadata": {},
     "output_type": "execute_result"
    }
   ],
   "source": [
    "data['Flight_Duration'].value_counts()"
   ]
  },
  {
   "cell_type": "code",
   "execution_count": 11,
   "id": "5bebd7d2",
   "metadata": {},
   "outputs": [
    {
     "data": {
      "text/plain": [
       "1 stop     1460\n",
       "Nonstop     160\n",
       "2 stops     100\n",
       "Name: Total_Stops, dtype: int64"
      ]
     },
     "execution_count": 11,
     "metadata": {},
     "output_type": "execute_result"
    }
   ],
   "source": [
    "data['Total_Stops'].value_counts()"
   ]
  },
  {
   "cell_type": "code",
   "execution_count": 12,
   "id": "804eb07b",
   "metadata": {},
   "outputs": [
    {
     "data": {
      "text/plain": [
       "₹22,044     130\n",
       "₹27,140     120\n",
       "₹23,094     110\n",
       "₹39,005      90\n",
       "₹27,434      60\n",
       "           ... \n",
       "₹22,725      10\n",
       "₹22,756      10\n",
       "₹22,869      10\n",
       "₹23,247      10\n",
       "₹216,855     10\n",
       "Name: Price, Length: 81, dtype: int64"
      ]
     },
     "execution_count": 12,
     "metadata": {},
     "output_type": "execute_result"
    }
   ],
   "source": [
    "data['Price'].value_counts()"
   ]
  },
  {
   "cell_type": "code",
   "execution_count": 13,
   "id": "94ed2c09",
   "metadata": {},
   "outputs": [
    {
     "data": {
      "text/html": [
       "<div>\n",
       "<style scoped>\n",
       "    .dataframe tbody tr th:only-of-type {\n",
       "        vertical-align: middle;\n",
       "    }\n",
       "\n",
       "    .dataframe tbody tr th {\n",
       "        vertical-align: top;\n",
       "    }\n",
       "\n",
       "    .dataframe thead th {\n",
       "        text-align: right;\n",
       "    }\n",
       "</style>\n",
       "<table border=\"1\" class=\"dataframe\">\n",
       "  <thead>\n",
       "    <tr style=\"text-align: right;\">\n",
       "      <th></th>\n",
       "      <th>Airlines</th>\n",
       "      <th>Arrival_Time</th>\n",
       "      <th>Flight_Duration</th>\n",
       "      <th>Total_Stops</th>\n",
       "      <th>Price</th>\n",
       "      <th>Departure_min</th>\n",
       "      <th>Departure_hour</th>\n",
       "    </tr>\n",
       "  </thead>\n",
       "  <tbody>\n",
       "    <tr>\n",
       "      <th>0</th>\n",
       "      <td>GO FIRST</td>\n",
       "      <td>1:20</td>\n",
       "      <td>2hr 40min</td>\n",
       "      <td>Nonstop</td>\n",
       "      <td>₹15,984</td>\n",
       "      <td>40</td>\n",
       "      <td>10</td>\n",
       "    </tr>\n",
       "    <tr>\n",
       "      <th>1</th>\n",
       "      <td>SpiceJet</td>\n",
       "      <td>2:25</td>\n",
       "      <td>2hr 20min</td>\n",
       "      <td>Nonstop</td>\n",
       "      <td>₹16,383</td>\n",
       "      <td>5</td>\n",
       "      <td>12</td>\n",
       "    </tr>\n",
       "    <tr>\n",
       "      <th>2</th>\n",
       "      <td>IndiGo</td>\n",
       "      <td>2:50</td>\n",
       "      <td>2hr 25min</td>\n",
       "      <td>Nonstop</td>\n",
       "      <td>₹16,383</td>\n",
       "      <td>25</td>\n",
       "      <td>12</td>\n",
       "    </tr>\n",
       "    <tr>\n",
       "      <th>3</th>\n",
       "      <td>Vistara</td>\n",
       "      <td>1:50</td>\n",
       "      <td>2hr 40min</td>\n",
       "      <td>Nonstop</td>\n",
       "      <td>₹17,040</td>\n",
       "      <td>10</td>\n",
       "      <td>11</td>\n",
       "    </tr>\n",
       "    <tr>\n",
       "      <th>4</th>\n",
       "      <td>GO FIRST</td>\n",
       "      <td>5:25</td>\n",
       "      <td>12hr</td>\n",
       "      <td>1 stop</td>\n",
       "      <td>₹16,246</td>\n",
       "      <td>25</td>\n",
       "      <td>5</td>\n",
       "    </tr>\n",
       "  </tbody>\n",
       "</table>\n",
       "</div>"
      ],
      "text/plain": [
       "   Airlines Arrival_Time Flight_Duration Total_Stops    Price  Departure_min  \\\n",
       "0  GO FIRST         1:20       2hr 40min     Nonstop  ₹15,984             40   \n",
       "1  SpiceJet         2:25       2hr 20min     Nonstop  ₹16,383              5   \n",
       "2    IndiGo         2:50       2hr 25min     Nonstop  ₹16,383             25   \n",
       "3   Vistara         1:50       2hr 40min     Nonstop  ₹17,040             10   \n",
       "4  GO FIRST         5:25            12hr      1 stop  ₹16,246             25   \n",
       "\n",
       "   Departure_hour  \n",
       "0              10  \n",
       "1              12  \n",
       "2              12  \n",
       "3              11  \n",
       "4               5  "
      ]
     },
     "execution_count": 13,
     "metadata": {},
     "output_type": "execute_result"
    }
   ],
   "source": [
    "# seperating hours and minutes \n",
    "\n",
    "data['Departure_min'] =pd.to_datetime(data['Departure_Time']).dt.minute\n",
    "data['Departure_hour']=pd.to_datetime(data['Departure_Time']).dt.hour\n",
    "data =data.drop(['Departure_Time'],axis =1)\n",
    "data.head()"
   ]
  },
  {
   "cell_type": "code",
   "execution_count": 14,
   "id": "20e05b88",
   "metadata": {},
   "outputs": [
    {
     "data": {
      "text/html": [
       "<div>\n",
       "<style scoped>\n",
       "    .dataframe tbody tr th:only-of-type {\n",
       "        vertical-align: middle;\n",
       "    }\n",
       "\n",
       "    .dataframe tbody tr th {\n",
       "        vertical-align: top;\n",
       "    }\n",
       "\n",
       "    .dataframe thead th {\n",
       "        text-align: right;\n",
       "    }\n",
       "</style>\n",
       "<table border=\"1\" class=\"dataframe\">\n",
       "  <thead>\n",
       "    <tr style=\"text-align: right;\">\n",
       "      <th></th>\n",
       "      <th>Airlines</th>\n",
       "      <th>Flight_Duration</th>\n",
       "      <th>Total_Stops</th>\n",
       "      <th>Price</th>\n",
       "      <th>Departure_min</th>\n",
       "      <th>Departure_hour</th>\n",
       "      <th>Arrival_min</th>\n",
       "      <th>Arrival_hour</th>\n",
       "    </tr>\n",
       "  </thead>\n",
       "  <tbody>\n",
       "    <tr>\n",
       "      <th>0</th>\n",
       "      <td>GO FIRST</td>\n",
       "      <td>2hr 40min</td>\n",
       "      <td>Nonstop</td>\n",
       "      <td>₹15,984</td>\n",
       "      <td>40</td>\n",
       "      <td>10</td>\n",
       "      <td>NaN</td>\n",
       "      <td>NaN</td>\n",
       "    </tr>\n",
       "    <tr>\n",
       "      <th>1</th>\n",
       "      <td>SpiceJet</td>\n",
       "      <td>2hr 20min</td>\n",
       "      <td>Nonstop</td>\n",
       "      <td>₹16,383</td>\n",
       "      <td>5</td>\n",
       "      <td>12</td>\n",
       "      <td>NaN</td>\n",
       "      <td>NaN</td>\n",
       "    </tr>\n",
       "    <tr>\n",
       "      <th>2</th>\n",
       "      <td>IndiGo</td>\n",
       "      <td>2hr 25min</td>\n",
       "      <td>Nonstop</td>\n",
       "      <td>₹16,383</td>\n",
       "      <td>25</td>\n",
       "      <td>12</td>\n",
       "      <td>NaN</td>\n",
       "      <td>NaN</td>\n",
       "    </tr>\n",
       "    <tr>\n",
       "      <th>3</th>\n",
       "      <td>Vistara</td>\n",
       "      <td>2hr 40min</td>\n",
       "      <td>Nonstop</td>\n",
       "      <td>₹17,040</td>\n",
       "      <td>10</td>\n",
       "      <td>11</td>\n",
       "      <td>NaN</td>\n",
       "      <td>NaN</td>\n",
       "    </tr>\n",
       "    <tr>\n",
       "      <th>4</th>\n",
       "      <td>GO FIRST</td>\n",
       "      <td>12hr</td>\n",
       "      <td>1 stop</td>\n",
       "      <td>₹16,246</td>\n",
       "      <td>25</td>\n",
       "      <td>5</td>\n",
       "      <td>25.0</td>\n",
       "      <td>5.0</td>\n",
       "    </tr>\n",
       "  </tbody>\n",
       "</table>\n",
       "</div>"
      ],
      "text/plain": [
       "   Airlines Flight_Duration Total_Stops    Price  Departure_min  \\\n",
       "0  GO FIRST       2hr 40min     Nonstop  ₹15,984             40   \n",
       "1  SpiceJet       2hr 20min     Nonstop  ₹16,383              5   \n",
       "2    IndiGo       2hr 25min     Nonstop  ₹16,383             25   \n",
       "3   Vistara       2hr 40min     Nonstop  ₹17,040             10   \n",
       "4  GO FIRST            12hr      1 stop  ₹16,246             25   \n",
       "\n",
       "   Departure_hour  Arrival_min  Arrival_hour  \n",
       "0              10          NaN           NaN  \n",
       "1              12          NaN           NaN  \n",
       "2              12          NaN           NaN  \n",
       "3              11          NaN           NaN  \n",
       "4               5         25.0           5.0  "
      ]
     },
     "execution_count": 14,
     "metadata": {},
     "output_type": "execute_result"
    }
   ],
   "source": [
    "# seperating hours and minutes \n",
    "\n",
    "data['Arrival_min'] =pd.to_datetime(data['Arrival_Time'], errors = 'coerce').dt.minute\n",
    "data['Arrival_hour']=pd.to_datetime(data['Arrival_Time'], errors = 'coerce').dt.hour\n",
    "data =data.drop(['Arrival_Time'],axis =1)\n",
    "data.head()"
   ]
  },
  {
   "cell_type": "code",
   "execution_count": 15,
   "id": "34979c77",
   "metadata": {},
   "outputs": [
    {
     "data": {
      "text/plain": [
       "Airlines             0\n",
       "Flight_Duration      0\n",
       "Total_Stops          0\n",
       "Price                0\n",
       "Departure_min        0\n",
       "Departure_hour       0\n",
       "Arrival_min        360\n",
       "Arrival_hour       360\n",
       "dtype: int64"
      ]
     },
     "execution_count": 15,
     "metadata": {},
     "output_type": "execute_result"
    }
   ],
   "source": [
    "data.isnull().sum()"
   ]
  },
  {
   "cell_type": "code",
   "execution_count": 16,
   "id": "d55f825a",
   "metadata": {},
   "outputs": [
    {
     "data": {
      "text/html": [
       "<div>\n",
       "<style scoped>\n",
       "    .dataframe tbody tr th:only-of-type {\n",
       "        vertical-align: middle;\n",
       "    }\n",
       "\n",
       "    .dataframe tbody tr th {\n",
       "        vertical-align: top;\n",
       "    }\n",
       "\n",
       "    .dataframe thead th {\n",
       "        text-align: right;\n",
       "    }\n",
       "</style>\n",
       "<table border=\"1\" class=\"dataframe\">\n",
       "  <thead>\n",
       "    <tr style=\"text-align: right;\">\n",
       "      <th></th>\n",
       "      <th>Airlines</th>\n",
       "      <th>Flight_Duration</th>\n",
       "      <th>Total_Stops</th>\n",
       "      <th>Price</th>\n",
       "      <th>Departure_min</th>\n",
       "      <th>Departure_hour</th>\n",
       "      <th>Arrival_min</th>\n",
       "      <th>Arrival_hour</th>\n",
       "    </tr>\n",
       "  </thead>\n",
       "  <tbody>\n",
       "    <tr>\n",
       "      <th>0</th>\n",
       "      <td>GO FIRST</td>\n",
       "      <td>2hr 40min</td>\n",
       "      <td>Nonstop</td>\n",
       "      <td>₹15,984</td>\n",
       "      <td>40</td>\n",
       "      <td>10</td>\n",
       "      <td>27.0</td>\n",
       "      <td>6.0</td>\n",
       "    </tr>\n",
       "    <tr>\n",
       "      <th>1</th>\n",
       "      <td>SpiceJet</td>\n",
       "      <td>2hr 20min</td>\n",
       "      <td>Nonstop</td>\n",
       "      <td>₹16,383</td>\n",
       "      <td>5</td>\n",
       "      <td>12</td>\n",
       "      <td>27.0</td>\n",
       "      <td>6.0</td>\n",
       "    </tr>\n",
       "    <tr>\n",
       "      <th>2</th>\n",
       "      <td>IndiGo</td>\n",
       "      <td>2hr 25min</td>\n",
       "      <td>Nonstop</td>\n",
       "      <td>₹16,383</td>\n",
       "      <td>25</td>\n",
       "      <td>12</td>\n",
       "      <td>27.0</td>\n",
       "      <td>6.0</td>\n",
       "    </tr>\n",
       "    <tr>\n",
       "      <th>3</th>\n",
       "      <td>Vistara</td>\n",
       "      <td>2hr 40min</td>\n",
       "      <td>Nonstop</td>\n",
       "      <td>₹17,040</td>\n",
       "      <td>10</td>\n",
       "      <td>11</td>\n",
       "      <td>27.0</td>\n",
       "      <td>6.0</td>\n",
       "    </tr>\n",
       "    <tr>\n",
       "      <th>4</th>\n",
       "      <td>GO FIRST</td>\n",
       "      <td>12hr</td>\n",
       "      <td>1 stop</td>\n",
       "      <td>₹16,246</td>\n",
       "      <td>25</td>\n",
       "      <td>5</td>\n",
       "      <td>25.0</td>\n",
       "      <td>5.0</td>\n",
       "    </tr>\n",
       "  </tbody>\n",
       "</table>\n",
       "</div>"
      ],
      "text/plain": [
       "   Airlines Flight_Duration Total_Stops    Price  Departure_min  \\\n",
       "0  GO FIRST       2hr 40min     Nonstop  ₹15,984             40   \n",
       "1  SpiceJet       2hr 20min     Nonstop  ₹16,383              5   \n",
       "2    IndiGo       2hr 25min     Nonstop  ₹16,383             25   \n",
       "3   Vistara       2hr 40min     Nonstop  ₹17,040             10   \n",
       "4  GO FIRST            12hr      1 stop  ₹16,246             25   \n",
       "\n",
       "   Departure_hour  Arrival_min  Arrival_hour  \n",
       "0              10         27.0           6.0  \n",
       "1              12         27.0           6.0  \n",
       "2              12         27.0           6.0  \n",
       "3              11         27.0           6.0  \n",
       "4               5         25.0           5.0  "
      ]
     },
     "execution_count": 16,
     "metadata": {},
     "output_type": "execute_result"
    }
   ],
   "source": [
    "data['Arrival_min'].fillna(int(data['Arrival_min'].mean()), inplace=True)\n",
    "data['Arrival_hour'].fillna(int(data['Arrival_hour'].mean()), inplace=True)\n",
    "data.head()"
   ]
  },
  {
   "cell_type": "code",
   "execution_count": 17,
   "id": "1daf7ae0",
   "metadata": {},
   "outputs": [
    {
     "data": {
      "text/plain": [
       "Airlines           0\n",
       "Flight_Duration    0\n",
       "Total_Stops        0\n",
       "Price              0\n",
       "Departure_min      0\n",
       "Departure_hour     0\n",
       "Arrival_min        0\n",
       "Arrival_hour       0\n",
       "dtype: int64"
      ]
     },
     "execution_count": 17,
     "metadata": {},
     "output_type": "execute_result"
    }
   ],
   "source": [
    "data.isnull().sum()"
   ]
  },
  {
   "cell_type": "code",
   "execution_count": 18,
   "id": "548a06ff",
   "metadata": {},
   "outputs": [
    {
     "data": {
      "image/png": "[encoded data removed]",
      "text/plain": [
       "<Figure size 360x360 with 1 Axes>"
      ]
     },
     "metadata": {
      "needs_background": "light"
     },
     "output_type": "display_data"
    }
   ],
   "source": [
    "plt.figure(figsize=(5,5))\n",
    "sns.countplot(data['Total_Stops'])\n",
    "plt.show()"
   ]
  },
  {
   "cell_type": "code",
   "execution_count": 19,
   "id": "08db0df1",
   "metadata": {},
   "outputs": [
    {
     "data": {
      "text/html": [
       "<div>\n",
       "<style scoped>\n",
       "    .dataframe tbody tr th:only-of-type {\n",
       "        vertical-align: middle;\n",
       "    }\n",
       "\n",
       "    .dataframe tbody tr th {\n",
       "        vertical-align: top;\n",
       "    }\n",
       "\n",
       "    .dataframe thead th {\n",
       "        text-align: right;\n",
       "    }\n",
       "</style>\n",
       "<table border=\"1\" class=\"dataframe\">\n",
       "  <thead>\n",
       "    <tr style=\"text-align: right;\">\n",
       "      <th></th>\n",
       "      <th>Airlines</th>\n",
       "      <th>Flight_Duration</th>\n",
       "      <th>Total_Stops</th>\n",
       "      <th>Price</th>\n",
       "      <th>Departure_min</th>\n",
       "      <th>Departure_hour</th>\n",
       "      <th>Arrival_min</th>\n",
       "      <th>Arrival_hour</th>\n",
       "    </tr>\n",
       "  </thead>\n",
       "  <tbody>\n",
       "    <tr>\n",
       "      <th>0</th>\n",
       "      <td>GO FIRST</td>\n",
       "      <td>2hr 40min</td>\n",
       "      <td>0</td>\n",
       "      <td>₹15,984</td>\n",
       "      <td>40</td>\n",
       "      <td>10</td>\n",
       "      <td>27.0</td>\n",
       "      <td>6.0</td>\n",
       "    </tr>\n",
       "    <tr>\n",
       "      <th>1</th>\n",
       "      <td>SpiceJet</td>\n",
       "      <td>2hr 20min</td>\n",
       "      <td>0</td>\n",
       "      <td>₹16,383</td>\n",
       "      <td>5</td>\n",
       "      <td>12</td>\n",
       "      <td>27.0</td>\n",
       "      <td>6.0</td>\n",
       "    </tr>\n",
       "    <tr>\n",
       "      <th>2</th>\n",
       "      <td>IndiGo</td>\n",
       "      <td>2hr 25min</td>\n",
       "      <td>0</td>\n",
       "      <td>₹16,383</td>\n",
       "      <td>25</td>\n",
       "      <td>12</td>\n",
       "      <td>27.0</td>\n",
       "      <td>6.0</td>\n",
       "    </tr>\n",
       "    <tr>\n",
       "      <th>3</th>\n",
       "      <td>Vistara</td>\n",
       "      <td>2hr 40min</td>\n",
       "      <td>0</td>\n",
       "      <td>₹17,040</td>\n",
       "      <td>10</td>\n",
       "      <td>11</td>\n",
       "      <td>27.0</td>\n",
       "      <td>6.0</td>\n",
       "    </tr>\n",
       "    <tr>\n",
       "      <th>4</th>\n",
       "      <td>GO FIRST</td>\n",
       "      <td>12hr</td>\n",
       "      <td>1</td>\n",
       "      <td>₹16,246</td>\n",
       "      <td>25</td>\n",
       "      <td>5</td>\n",
       "      <td>25.0</td>\n",
       "      <td>5.0</td>\n",
       "    </tr>\n",
       "  </tbody>\n",
       "</table>\n",
       "</div>"
      ],
      "text/plain": [
       "   Airlines Flight_Duration  Total_Stops    Price  Departure_min  \\\n",
       "0  GO FIRST       2hr 40min            0  ₹15,984             40   \n",
       "1  SpiceJet       2hr 20min            0  ₹16,383              5   \n",
       "2    IndiGo       2hr 25min            0  ₹16,383             25   \n",
       "3   Vistara       2hr 40min            0  ₹17,040             10   \n",
       "4  GO FIRST            12hr            1  ₹16,246             25   \n",
       "\n",
       "   Departure_hour  Arrival_min  Arrival_hour  \n",
       "0              10         27.0           6.0  \n",
       "1              12         27.0           6.0  \n",
       "2              12         27.0           6.0  \n",
       "3              11         27.0           6.0  \n",
       "4               5         25.0           5.0  "
      ]
     },
     "execution_count": 19,
     "metadata": {},
     "output_type": "execute_result"
    }
   ],
   "source": [
    "# replace data with some meaningfull values\n",
    "\n",
    "data.replace({\"Nonstop\":0, \"1 stop\":1, \"2 stops\":2},inplace =True)\n",
    "data.head()"
   ]
  },
  {
   "cell_type": "code",
   "execution_count": 20,
   "id": "d414299e",
   "metadata": {},
   "outputs": [
    {
     "data": {
      "text/plain": [
       "0        15984\n",
       "1        16383\n",
       "2        16383\n",
       "3        17040\n",
       "4        16246\n",
       "         ...  \n",
       "1715    145557\n",
       "1716    146607\n",
       "1717    209161\n",
       "1718    209161\n",
       "1719    216855\n",
       "Name: Price, Length: 1720, dtype: object"
      ]
     },
     "execution_count": 20,
     "metadata": {},
     "output_type": "execute_result"
    }
   ],
   "source": [
    "# replacing currency symbol and commas\n",
    "\n",
    "data['Price'] = data['Price'].str.replace(',', '')\n",
    "data['Price'] = data['Price'].str.replace('₹', '')\n",
    "data['Price']"
   ]
  },
  {
   "cell_type": "code",
   "execution_count": 21,
   "id": "37c26a39",
   "metadata": {},
   "outputs": [
    {
     "data": {
      "text/plain": [
       "Airlines           object\n",
       "Flight_Duration    object\n",
       "Total_Stops         int64\n",
       "Price               int32\n",
       "Departure_min       int64\n",
       "Departure_hour      int64\n",
       "Arrival_min         int32\n",
       "Arrival_hour        int32\n",
       "dtype: object"
      ]
     },
     "metadata": {},
     "output_type": "display_data"
    }
   ],
   "source": [
    "# converting data from float to int\n",
    "\n",
    "data['Price'] = data['Price'].astype(int)\n",
    "data['Arrival_min'] = data['Arrival_min'].astype(int)\n",
    "data['Arrival_hour'] = data['Arrival_hour'].astype(int)\n",
    "\n",
    "# displaying the datatypes\n",
    "display(data.dtypes)"
   ]
  },
  {
   "cell_type": "code",
   "execution_count": 22,
   "id": "51e06dde",
   "metadata": {},
   "outputs": [
    {
     "data": {
      "text/plain": [
       "2hr 35min     50\n",
       "2hr 40min     40\n",
       "11hr 10min    40\n",
       "8hr 20min     40\n",
       "7hr 55min     30\n",
       "              ..\n",
       "15hr 50min    10\n",
       "14hr 50min    10\n",
       "20hr 20min    10\n",
       "21hr 20min    10\n",
       "11hr          10\n",
       "Name: Flight_Duration, Length: 120, dtype: int64"
      ]
     },
     "execution_count": 22,
     "metadata": {},
     "output_type": "execute_result"
    }
   ],
   "source": [
    "data['Flight_Duration'].value_counts()"
   ]
  },
  {
   "cell_type": "code",
   "execution_count": 23,
   "id": "af1cb859",
   "metadata": {},
   "outputs": [
    {
     "data": {
      "text/plain": [
       "2"
      ]
     },
     "execution_count": 23,
     "metadata": {},
     "output_type": "execute_result"
    }
   ],
   "source": [
    "len(\"11hr 10min\".split())"
   ]
  },
  {
   "cell_type": "code",
   "execution_count": 24,
   "id": "1f7945a0",
   "metadata": {},
   "outputs": [],
   "source": [
    "duration = list(data['Flight_Duration'])\n",
    "\n",
    "for i in range(len(duration)):\n",
    "    if len(duration[i].split()) != 4:    \n",
    "        if \"hr\" in duration[i]:\n",
    "            duration[i] = duration[i].strip() + \" 0min\"    # 0m = 0 minute\n",
    "        else:\n",
    "            duration[i] = \"0hr \" + duration[i]             # 0h = 0 hour\n",
    "\n",
    "duration_hours = []\n",
    "duration_mins = []\n",
    "for i in range(len(duration)):\n",
    "    duration_hours.append(int(duration[i].split(sep = \"hr\")[0]))                # Extract hours from duration\n",
    "    duration_mins.append(int(duration[i].split(sep = \"min\")[0].split()[-1]))    # Extracts only minutes from duration"
   ]
  },
  {
   "cell_type": "code",
   "execution_count": 25,
   "id": "9111e7f6",
   "metadata": {},
   "outputs": [
    {
     "data": {
      "text/html": [
       "<div>\n",
       "<style scoped>\n",
       "    .dataframe tbody tr th:only-of-type {\n",
       "        vertical-align: middle;\n",
       "    }\n",
       "\n",
       "    .dataframe tbody tr th {\n",
       "        vertical-align: top;\n",
       "    }\n",
       "\n",
       "    .dataframe thead th {\n",
       "        text-align: right;\n",
       "    }\n",
       "</style>\n",
       "<table border=\"1\" class=\"dataframe\">\n",
       "  <thead>\n",
       "    <tr style=\"text-align: right;\">\n",
       "      <th></th>\n",
       "      <th>Airlines</th>\n",
       "      <th>Total_Stops</th>\n",
       "      <th>Price</th>\n",
       "      <th>Departure_min</th>\n",
       "      <th>Departure_hour</th>\n",
       "      <th>Arrival_min</th>\n",
       "      <th>Arrival_hour</th>\n",
       "      <th>Duration_hours</th>\n",
       "      <th>Duration_mins</th>\n",
       "    </tr>\n",
       "  </thead>\n",
       "  <tbody>\n",
       "    <tr>\n",
       "      <th>0</th>\n",
       "      <td>GO FIRST</td>\n",
       "      <td>0</td>\n",
       "      <td>15984</td>\n",
       "      <td>40</td>\n",
       "      <td>10</td>\n",
       "      <td>27</td>\n",
       "      <td>6</td>\n",
       "      <td>2</td>\n",
       "      <td>40</td>\n",
       "    </tr>\n",
       "    <tr>\n",
       "      <th>1</th>\n",
       "      <td>SpiceJet</td>\n",
       "      <td>0</td>\n",
       "      <td>16383</td>\n",
       "      <td>5</td>\n",
       "      <td>12</td>\n",
       "      <td>27</td>\n",
       "      <td>6</td>\n",
       "      <td>2</td>\n",
       "      <td>20</td>\n",
       "    </tr>\n",
       "    <tr>\n",
       "      <th>2</th>\n",
       "      <td>IndiGo</td>\n",
       "      <td>0</td>\n",
       "      <td>16383</td>\n",
       "      <td>25</td>\n",
       "      <td>12</td>\n",
       "      <td>27</td>\n",
       "      <td>6</td>\n",
       "      <td>2</td>\n",
       "      <td>25</td>\n",
       "    </tr>\n",
       "    <tr>\n",
       "      <th>3</th>\n",
       "      <td>Vistara</td>\n",
       "      <td>0</td>\n",
       "      <td>17040</td>\n",
       "      <td>10</td>\n",
       "      <td>11</td>\n",
       "      <td>27</td>\n",
       "      <td>6</td>\n",
       "      <td>2</td>\n",
       "      <td>40</td>\n",
       "    </tr>\n",
       "    <tr>\n",
       "      <th>4</th>\n",
       "      <td>GO FIRST</td>\n",
       "      <td>1</td>\n",
       "      <td>16246</td>\n",
       "      <td>25</td>\n",
       "      <td>5</td>\n",
       "      <td>25</td>\n",
       "      <td>5</td>\n",
       "      <td>12</td>\n",
       "      <td>0</td>\n",
       "    </tr>\n",
       "  </tbody>\n",
       "</table>\n",
       "</div>"
      ],
      "text/plain": [
       "   Airlines  Total_Stops  Price  Departure_min  Departure_hour  Arrival_min  \\\n",
       "0  GO FIRST            0  15984             40              10           27   \n",
       "1  SpiceJet            0  16383              5              12           27   \n",
       "2    IndiGo            0  16383             25              12           27   \n",
       "3   Vistara            0  17040             10              11           27   \n",
       "4  GO FIRST            1  16246             25               5           25   \n",
       "\n",
       "   Arrival_hour  Duration_hours  Duration_mins  \n",
       "0             6               2             40  \n",
       "1             6               2             20  \n",
       "2             6               2             25  \n",
       "3             6               2             40  \n",
       "4             5              12              0  "
      ]
     },
     "execution_count": 25,
     "metadata": {},
     "output_type": "execute_result"
    }
   ],
   "source": [
    "data[\"Duration_hours\"] = duration_hours\n",
    "data[\"Duration_mins\"] = duration_mins\n",
    "data =data.drop(['Flight_Duration'],axis =1)\n",
    "data.head()"
   ]
  },
  {
   "cell_type": "code",
   "execution_count": 26,
   "id": "b8d47ed3",
   "metadata": {},
   "outputs": [
    {
     "data": {
      "image/png": "[encoded data removed]",
      "text/plain": [
       "<Figure size 720x720 with 1 Axes>"
      ]
     },
     "metadata": {
      "needs_background": "light"
     },
     "output_type": "display_data"
    }
   ],
   "source": [
    "plt.figure(figsize=(10,10))\n",
    "sns.countplot( x=\"Airlines\" , data = data)\n",
    "plt.show()"
   ]
  },
  {
   "cell_type": "code",
   "execution_count": 27,
   "id": "88ed8a87",
   "metadata": {},
   "outputs": [
    {
     "data": {
      "image/png": "[encoded data removed]",
      "text/plain": [
       "<Figure size 720x720 with 1 Axes>"
      ]
     },
     "metadata": {
      "needs_background": "light"
     },
     "output_type": "display_data"
    }
   ],
   "source": [
    "plt.figure(figsize=(10,10))\n",
    "sns.boxplot( x =\"Airlines\" , y=\"Price\" ,data =data)\n",
    "plt.show()"
   ]
  },
  {
   "cell_type": "code",
   "execution_count": 28,
   "id": "9945fb35",
   "metadata": {},
   "outputs": [
    {
     "data": {
      "text/html": [
       "<div>\n",
       "<style scoped>\n",
       "    .dataframe tbody tr th:only-of-type {\n",
       "        vertical-align: middle;\n",
       "    }\n",
       "\n",
       "    .dataframe tbody tr th {\n",
       "        vertical-align: top;\n",
       "    }\n",
       "\n",
       "    .dataframe thead th {\n",
       "        text-align: right;\n",
       "    }\n",
       "</style>\n",
       "<table border=\"1\" class=\"dataframe\">\n",
       "  <thead>\n",
       "    <tr style=\"text-align: right;\">\n",
       "      <th></th>\n",
       "      <th>Airlines</th>\n",
       "      <th>Total_Stops</th>\n",
       "      <th>Price</th>\n",
       "      <th>Departure_min</th>\n",
       "      <th>Departure_hour</th>\n",
       "      <th>Arrival_min</th>\n",
       "      <th>Arrival_hour</th>\n",
       "      <th>Duration_hours</th>\n",
       "      <th>Duration_mins</th>\n",
       "    </tr>\n",
       "  </thead>\n",
       "  <tbody>\n",
       "    <tr>\n",
       "      <th>0</th>\n",
       "      <td>3</td>\n",
       "      <td>0</td>\n",
       "      <td>15984</td>\n",
       "      <td>40</td>\n",
       "      <td>10</td>\n",
       "      <td>27</td>\n",
       "      <td>6</td>\n",
       "      <td>2</td>\n",
       "      <td>40</td>\n",
       "    </tr>\n",
       "    <tr>\n",
       "      <th>1</th>\n",
       "      <td>5</td>\n",
       "      <td>0</td>\n",
       "      <td>16383</td>\n",
       "      <td>5</td>\n",
       "      <td>12</td>\n",
       "      <td>27</td>\n",
       "      <td>6</td>\n",
       "      <td>2</td>\n",
       "      <td>20</td>\n",
       "    </tr>\n",
       "    <tr>\n",
       "      <th>2</th>\n",
       "      <td>4</td>\n",
       "      <td>0</td>\n",
       "      <td>16383</td>\n",
       "      <td>25</td>\n",
       "      <td>12</td>\n",
       "      <td>27</td>\n",
       "      <td>6</td>\n",
       "      <td>2</td>\n",
       "      <td>25</td>\n",
       "    </tr>\n",
       "    <tr>\n",
       "      <th>3</th>\n",
       "      <td>6</td>\n",
       "      <td>0</td>\n",
       "      <td>17040</td>\n",
       "      <td>10</td>\n",
       "      <td>11</td>\n",
       "      <td>27</td>\n",
       "      <td>6</td>\n",
       "      <td>2</td>\n",
       "      <td>40</td>\n",
       "    </tr>\n",
       "    <tr>\n",
       "      <th>4</th>\n",
       "      <td>3</td>\n",
       "      <td>1</td>\n",
       "      <td>16246</td>\n",
       "      <td>25</td>\n",
       "      <td>5</td>\n",
       "      <td>25</td>\n",
       "      <td>5</td>\n",
       "      <td>12</td>\n",
       "      <td>0</td>\n",
       "    </tr>\n",
       "  </tbody>\n",
       "</table>\n",
       "</div>"
      ],
      "text/plain": [
       "   Airlines  Total_Stops  Price  Departure_min  Departure_hour  Arrival_min  \\\n",
       "0         3            0  15984             40              10           27   \n",
       "1         5            0  16383              5              12           27   \n",
       "2         4            0  16383             25              12           27   \n",
       "3         6            0  17040             10              11           27   \n",
       "4         3            1  16246             25               5           25   \n",
       "\n",
       "   Arrival_hour  Duration_hours  Duration_mins  \n",
       "0             6               2             40  \n",
       "1             6               2             20  \n",
       "2             6               2             25  \n",
       "3             6               2             40  \n",
       "4             5              12              0  "
      ]
     },
     "execution_count": 28,
     "metadata": {},
     "output_type": "execute_result"
    }
   ],
   "source": [
    "le =LabelEncoder()\n",
    "\n",
    "data[\"Airlines\"]=le.fit_transform(data[\"Airlines\"])\n",
    "data.head()"
   ]
  },
  {
   "cell_type": "code",
   "execution_count": 29,
   "id": "e162c7a5",
   "metadata": {},
   "outputs": [
    {
     "data": {
      "image/png": "[encoded data removed]",
      "text/plain": [
       "<Figure size 1800x1800 with 9 Axes>"
      ]
     },
     "metadata": {
      "needs_background": "light"
     },
     "output_type": "display_data"
    }
   ],
   "source": [
    "plt.figure(figsize = (25,25))\n",
    "plotnumber = 1\n",
    "for col in data.columns:\n",
    "    if plotnumber <= 24:\n",
    "        ax = plt.subplot(5, 5, plotnumber)\n",
    "        sns.distplot(data[col] ,color= 'b')\n",
    "        plt.xlabel(col, fontsize =10)\n",
    "\n",
    "    plotnumber += 1\n",
    "\n",
    "plt.tight_layout()\n",
    "plt.show()"
   ]
  },
  {
   "cell_type": "code",
   "execution_count": 30,
   "id": "cf9f35e8",
   "metadata": {},
   "outputs": [],
   "source": [
    "x =data.drop(['Price'], axis =1)\n",
    "y =data['Price']"
   ]
  },
  {
   "cell_type": "code",
   "execution_count": 31,
   "id": "80e178ca",
   "metadata": {},
   "outputs": [
    {
     "data": {
      "text/plain": [
       "array([[-0.14342113, -2.49236888,  0.80089615, ..., -0.03109888,\n",
       "        -1.36857604,  0.82234777],\n",
       "       [ 0.8053648 , -2.49236888, -1.04638156, ..., -0.03109888,\n",
       "        -1.36857604, -0.3788736 ],\n",
       "       [ 0.33097184, -2.49236888,  0.0092057 , ..., -0.03109888,\n",
       "        -1.36857604, -0.07856826],\n",
       "       ...,\n",
       "       [-0.61781409,  0.09008562, -1.31027837, ..., -0.03109888,\n",
       "         0.99720365,  1.42295846],\n",
       "       [-0.61781409,  0.09008562, -0.51858793, ..., -0.97504151,\n",
       "         0.15228233,  0.52204243],\n",
       "       [-1.56660002,  0.09008562,  1.32868978, ..., -0.97504151,\n",
       "         0.15228233, -1.58009497]])"
      ]
     },
     "execution_count": 31,
     "metadata": {},
     "output_type": "execute_result"
    }
   ],
   "source": [
    "sc = StandardScaler()\n",
    "sc.fit_transform(x)"
   ]
  },
  {
   "cell_type": "code",
   "execution_count": 32,
   "id": "128adb85",
   "metadata": {},
   "outputs": [],
   "source": [
    "x_train,x_test,y_train,y_test = train_test_split(x,y, test_size=0.2 ,random_state=5)"
   ]
  },
  {
   "cell_type": "code",
   "execution_count": 33,
   "id": "823c918f",
   "metadata": {},
   "outputs": [],
   "source": [
    "# LogisticRegression\n",
    "\n",
    "lr = LogisticRegression(C=1, max_iter = 1000)\n",
    "\n",
    "lr.fit(x_train, y_train)\n",
    "y_predict = lr.predict(x_test)"
   ]
  },
  {
   "cell_type": "code",
   "execution_count": 34,
   "id": "bc0b3cdc",
   "metadata": {},
   "outputs": [
    {
     "data": {
      "text/plain": [
       "0.9709302325581395"
      ]
     },
     "execution_count": 34,
     "metadata": {},
     "output_type": "execute_result"
    }
   ],
   "source": [
    "lr.score(x_test,y_test)"
   ]
  },
  {
   "cell_type": "code",
   "execution_count": 35,
   "id": "b72b3aed",
   "metadata": {},
   "outputs": [
    {
     "name": "stdout",
     "output_type": "stream",
     "text": [
      " MAE  : 44.125\n",
      " MSE  : 115788.00290697675\n",
      " RMSE : 340.276362545177\n"
     ]
    }
   ],
   "source": [
    "print(\" MAE  :\",metrics.mean_absolute_error(y_test,y_predict))\n",
    "print(\" MSE  :\",metrics.mean_squared_error(y_test,y_predict))\n",
    "print(\" RMSE :\",np.sqrt(metrics.mean_squared_error(y_test,y_predict)))"
   ]
  },
  {
   "cell_type": "code",
   "execution_count": 36,
   "id": "c1855bb2",
   "metadata": {},
   "outputs": [
    {
     "data": {
      "text/plain": [
       "0.9998012025337477"
      ]
     },
     "execution_count": 36,
     "metadata": {},
     "output_type": "execute_result"
    }
   ],
   "source": [
    "metrics.r2_score(y_test,y_predict)"
   ]
  },
  {
   "cell_type": "code",
   "execution_count": 37,
   "id": "4732940d",
   "metadata": {},
   "outputs": [],
   "source": [
    "# DecisionTree\n",
    "\n",
    "dt = DecisionTreeRegressor()\n",
    "\n",
    "dt.fit(x_train, y_train)\n",
    "y_predict = dt.predict(x_test)"
   ]
  },
  {
   "cell_type": "code",
   "execution_count": 38,
   "id": "80a9d199",
   "metadata": {},
   "outputs": [
    {
     "data": {
      "text/plain": [
       "1.0"
      ]
     },
     "execution_count": 38,
     "metadata": {},
     "output_type": "execute_result"
    }
   ],
   "source": [
    "dt.score(x_test,y_test)"
   ]
  },
  {
   "cell_type": "code",
   "execution_count": 39,
   "id": "fbd042d7",
   "metadata": {},
   "outputs": [
    {
     "name": "stdout",
     "output_type": "stream",
     "text": [
      " MAE  : 0.0\n",
      " MSE  : 0.0\n",
      " RMSE : 0.0\n"
     ]
    }
   ],
   "source": [
    "print(\" MAE  :\",metrics.mean_absolute_error(y_test,y_predict))\n",
    "print(\" MSE  :\",metrics.mean_squared_error(y_test,y_predict))\n",
    "print(\" RMSE :\",np.sqrt(metrics.mean_squared_error(y_test,y_predict)))"
   ]
  },
  {
   "cell_type": "code",
   "execution_count": 40,
   "id": "0874f8e8",
   "metadata": {},
   "outputs": [
    {
     "data": {
      "text/plain": [
       "1.0"
      ]
     },
     "execution_count": 40,
     "metadata": {},
     "output_type": "execute_result"
    }
   ],
   "source": [
    "metrics.r2_score(y_test,y_predict)"
   ]
  },
  {
   "cell_type": "code",
   "execution_count": 41,
   "id": "17600009",
   "metadata": {},
   "outputs": [],
   "source": [
    "# RandomForest\n",
    "\n",
    "rf = RandomForestRegressor()\n",
    "\n",
    "rf.fit(x_train, y_train)\n",
    "y_predict = rf.predict(x_test)"
   ]
  },
  {
   "cell_type": "code",
   "execution_count": 42,
   "id": "b44b4a30",
   "metadata": {},
   "outputs": [
    {
     "data": {
      "text/plain": [
       "0.9999997885926695"
      ]
     },
     "execution_count": 42,
     "metadata": {},
     "output_type": "execute_result"
    }
   ],
   "source": [
    "rf.score(x_test,y_test)"
   ]
  },
  {
   "cell_type": "code",
   "execution_count": 43,
   "id": "5bd939a7",
   "metadata": {},
   "outputs": [
    {
     "name": "stdout",
     "output_type": "stream",
     "text": [
      " MAE  : 1.9151744186046502\n",
      " MSE  : 123.13251802325772\n",
      " RMSE : 11.09650927198539\n"
     ]
    }
   ],
   "source": [
    "print(\" MAE  :\",metrics.mean_absolute_error(y_test,y_predict))\n",
    "print(\" MSE  :\",metrics.mean_squared_error(y_test,y_predict))\n",
    "print(\" RMSE :\",np.sqrt(metrics.mean_squared_error(y_test,y_predict)))"
   ]
  },
  {
   "cell_type": "code",
   "execution_count": 44,
   "id": "8bbbfba8",
   "metadata": {},
   "outputs": [
    {
     "data": {
      "text/plain": [
       "0.9999997885926695"
      ]
     },
     "execution_count": 44,
     "metadata": {},
     "output_type": "execute_result"
    }
   ],
   "source": [
    "metrics.r2_score(y_test,y_predict)"
   ]
  },
  {
   "cell_type": "code",
   "execution_count": 45,
   "id": "36a51f7f",
   "metadata": {},
   "outputs": [],
   "source": [
    "# KNeighbors\n",
    "\n",
    "knn = KNeighborsRegressor()\n",
    "\n",
    "knn.fit(x_train, y_train)\n",
    "y_predict = knn.predict(x_test)"
   ]
  },
  {
   "cell_type": "code",
   "execution_count": 46,
   "id": "b3ef951b",
   "metadata": {},
   "outputs": [
    {
     "data": {
      "text/plain": [
       "1.0"
      ]
     },
     "execution_count": 46,
     "metadata": {},
     "output_type": "execute_result"
    }
   ],
   "source": [
    "knn.score(x_test,y_test)"
   ]
  },
  {
   "cell_type": "code",
   "execution_count": 47,
   "id": "22fea11a",
   "metadata": {},
   "outputs": [
    {
     "name": "stdout",
     "output_type": "stream",
     "text": [
      " MAE  : 0.0\n",
      " MSE  : 0.0\n",
      " RMSE : 0.0\n"
     ]
    }
   ],
   "source": [
    "print(\" MAE  :\",metrics.mean_absolute_error(y_test,y_predict))\n",
    "print(\" MSE  :\",metrics.mean_squared_error(y_test,y_predict))\n",
    "print(\" RMSE :\",np.sqrt(metrics.mean_squared_error(y_test,y_predict)))"
   ]
  },
  {
   "cell_type": "code",
   "execution_count": 48,
   "id": "16b695d2",
   "metadata": {},
   "outputs": [
    {
     "data": {
      "text/plain": [
       "1.0"
      ]
     },
     "execution_count": 48,
     "metadata": {},
     "output_type": "execute_result"
    }
   ],
   "source": [
    "metrics.r2_score(y_test,y_predict)"
   ]
  },
  {
   "cell_type": "code",
   "execution_count": null,
   "id": "f53f2dde",
   "metadata": {},
   "outputs": [],
   "source": []
  },
  {
   "cell_type": "code",
   "execution_count": null,
   "id": "353b03d4",
   "metadata": {},
   "outputs": [],
   "source": []
  },
  {
   "cell_type": "code",
   "execution_count": null,
   "id": "6ab9ee6c",
   "metadata": {},
   "outputs": [],
   "source": []
  },
  {
   "cell_type": "code",
   "execution_count": null,
   "id": "929dc4a4",
   "metadata": {},
   "outputs": [],
   "source": []
  },
  {
   "cell_type": "code",
   "execution_count": null,
   "id": "43520df6",
   "metadata": {},
   "outputs": [],
   "source": []
  }
 ],
 "metadata": {
  "kernelspec": {
   "display_name": "Python 3 (ipykernel)",
   "language": "python",
   "name": "python3"
  },
  "language_info": {
   "codemirror_mode": {
    "name": "ipython",
    "version": 3
   },
   "file_extension": ".py",
   "mimetype": "text/x-python",
   "name": "python",
   "nbconvert_exporter": "python",
   "pygments_lexer": "ipython3",
   "version": "3.9.7"
  }
 },
 "nbformat": 4,
 "nbformat_minor": 5
}
